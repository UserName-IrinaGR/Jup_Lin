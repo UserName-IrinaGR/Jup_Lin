{
 "cells": [
  {
   "cell_type": "markdown",
   "id": "52ce6550-3e66-49be-bb00-30d220790c4d",
   "metadata": {},
   "source": [
    "## Команды получения справочной информации\n",
    "ОС Linux позволяет получить справочную информацию по самой системе. Современные дистрибутивы содержат тысячи страниц документации, представленной в электронном виде. Выводить эту информацию можно с помощью страниц интерактивного руководства man. \\\n",
    "**Команда man** \\\n",
    "Команда man имеет вид: \\\n",
    "```bash\n",
    "man name \n",
    "```\n",
    "Здесь name &mdash; название команды или другого объекта, о котором нужна информация. Например, команда"
   ]
  },
  {
   "cell_type": "code",
   "execution_count": 1,
   "id": "7e9f1c1f-0e2d-49ce-ae41-a04187f3ccee",
   "metadata": {
    "scrolled": true
   },
   "outputs": [
    {
     "name": "stdout",
     "output_type": "stream",
     "text": [
      "PWD(1)                           User Commands                          PWD(1)\n",
      "\n",
      "NAME\n",
      "       pwd - print name of current/working directory\n",
      "\n",
      "SYNOPSIS\n",
      "       pwd [OPTION]...\n",
      "\n",
      "DESCRIPTION\n",
      "       Print the full filename of the current working directory.\n",
      "\n",
      "       -L, --logical\n",
      "              use PWD from environment, even if it contains symlinks\n",
      "\n",
      "       -P, --physical\n",
      "              avoid all symlinks\n",
      "\n",
      "       --help display this help and exit\n",
      "\n",
      "       --version\n",
      "              output version information and exit\n",
      "\n",
      "       If no option is specified, -P is assumed.\n",
      "\n",
      "       NOTE:  your shell may have its own version of pwd, which usually super‐\n",
      "       sedes the version described here.  Please refer to your  shell's  docu‐\n",
      "       mentation for details about the options it supports.\n",
      "\n",
      "AUTHOR\n",
      "       Written by Jim Meyering.\n",
      "\n",
      "REPORTING BUGS\n",
      "       GNU coreutils online help: <https://www.gnu.org/software/coreutils/>\n",
      "       Report any translation bugs to <https://translationproject.org/team/>\n",
      "\n",
      "COPYRIGHT\n",
      "       Copyright  ©  2020  Free Software Foundation, Inc.  License GPLv3+: GNU\n",
      "       GPL version 3 or later <https://gnu.org/licenses/gpl.html>.\n",
      "       This is free software: you are free  to  change  and  redistribute  it.\n",
      "       There is NO WARRANTY, to the extent permitted by law.\n",
      "\n",
      "SEE ALSO\n",
      "       getcwd(3)\n",
      "\n",
      "       Full documentation <https://www.gnu.org/software/coreutils/pwd>\n",
      "       or available locally via: info '(coreutils) pwd invocation'\n",
      "\n",
      "GNU coreutils 8.32               February 2024                          PWD(1)\n"
     ]
    }
   ],
   "source": [
    "%%bash\n",
    "man pwd"
   ]
  },
  {
   "cell_type": "markdown",
   "id": "ae2c7577-8e27-4aaa-b2cd-7fa8f6287e1a",
   "metadata": {},
   "source": [
    "выведет на экран информацию о команде pwd. \\\n",
    "Для управления процессом вывода в терминале используются следующие клавиши:\n",
    "* Q &mdash; выход из программы;\n",
    "* Enter &mdash; просмотр строка за строкой;\n",
    "* Space &mdash; вывод следующего экрана информации;\n",
    "* B &mdash; вернуться к предыдущему экрану;\n",
    "* / за которой следует строка символов и Enter &mdash; поиск введенной строки символов;\n",
    "* N &mdash; повторение предыдущего поиска.\n",
    "\n",
    "Если необходимо отпечатать копию страницы, то можно воспользоваться командой \n",
    "```bash\n",
    "man name | lpr\n",
    "```\n",
    "для postscript-принтера\n",
    "```bash\n",
    "man -t name | lpr\n",
    "```\n",
    "В русскоязычных дистрибутивах часть man’ов переведены на русский язык, однако в основном справочная информация англоязычная."
   ]
  },
  {
   "cell_type": "markdown",
   "id": "4bbcafc9-0c66-4833-a299-eade9ff1a4d5",
   "metadata": {},
   "source": [
    "**Команда info** \\\n",
    "Команда info является альтернативой команде man. Она имеет вид\n",
    "```bash\n",
    "info name\n",
    "```\n",
    "здесь *name* – имя команды.\n",
    "Например:"
   ]
  },
  {
   "cell_type": "code",
   "execution_count": null,
   "id": "d8201e7d-ea06-4dde-bea7-eae66a6d6a57",
   "metadata": {
    "scrolled": true
   },
   "outputs": [],
   "source": [
    "%%bash\n",
    "info pwd"
   ]
  },
  {
   "cell_type": "markdown",
   "id": "c5d89370-3e71-43ab-a640-259f70658ce1",
   "metadata": {},
   "source": [
    "Информация, которую вы увидите, в большинстве случаев несколько отличается от той, которую дает команда man. Но самое существенное отличие заключается в том, что выдаваемая info информация представлена в гипертекстовом формате.\n",
    "В силу этого появляется возможность просматривать различные разделы помощи. Работая в тестовом режиме, вы можете запустить info в одной из альтернативных консолей. Переход от графического режима к текстовым альтернативным консолям осуществляется комбинациями клавиш: *Ctrl+Alt+F2*, *Ctrl+Alt+F3*, возврат в графический – *Ctrl+Alt+F7*."
   ]
  },
  {
   "cell_type": "markdown",
   "id": "f4fd0d3a-e7ef-429a-9f35-9b3d6f2d8782",
   "metadata": {},
   "source": [
    "**Команда help** \\\n",
    "Если ввести в командной строке *help* без параметров, то будет выведен список всех встроенных команд:"
   ]
  },
  {
   "cell_type": "code",
   "execution_count": null,
   "id": "e8dedba6-6779-4252-b959-6e765d55e7cf",
   "metadata": {
    "scrolled": true
   },
   "outputs": [],
   "source": [
    "%%bash\n",
    "help"
   ]
  },
  {
   "cell_type": "markdown",
   "id": "39fd8c3a-9757-4b4c-9bd4-c984ae659893",
   "metadata": {},
   "source": [
    "Если ввести команду\n",
    "```bash\n",
    "help name\n",
    "```\n",
    "где *name* – имя одной из этих команд, то выведется очень краткая справка о применении этой команды.\\\n",
    "Например:"
   ]
  },
  {
   "cell_type": "code",
   "execution_count": null,
   "id": "8242fcb7-218d-4374-8359-d3c76c91f53b",
   "metadata": {},
   "outputs": [],
   "source": [
    "%%bash\n",
    "help %"
   ]
  },
  {
   "cell_type": "markdown",
   "id": "9975d6e9-4be5-4b52-aa5c-6fb2a36aface",
   "metadata": {},
   "source": [
    "## Команды для работы с файлами\n",
    "Для работы с файлами и каталогами чаще всего применяются следующие команды:\n",
    "|Команда|Пояснение|\n",
    "| :---: | :---: |\n",
    "|touch file |создание пустого текстового файла с именем file;|\n",
    "|cat file|просмотр файла c именем file;|\n",
    "|less file|используется для просмотра файла с возможностью скроллинга;|\n",
    "|tac file|просмотр текстового файла c именем file в обратном порядке, от последней строки к первой;|\n",
    "|cp file1 file2|копирование file1 в file2;|\n",
    "|mv file1 file2|перемещение file1 в file2;|\n",
    "|rm file|удаление файла с именем file;|\n",
    "|rm -r dir|рекурсивное удаление каталога dir (вместе с содержимым);|\n",
    "|rmdir dir|удаление пустого каталога dir;|\n",
    "|locate file|быстрый поиск файла;|\n",
    "|which file|вывод каталога, в котором находится программа, если она установлена;|\n",
    "|mkdir dir|в текущем каталоге создает каталог с именем dir;|\n",
    "|cd dir|переход в каталог с именем dir;|\n",
    "|ls dir|вывод содержимого каталога dir.|\n",
    "\n",
    "Вместо имен каталогов можно использовать:\n",
    "|||\n",
    "|:---:|:---|\n",
    "|. | текущий каталог;|\n",
    "|.. | родительский каталог (на уровень выше);|\n",
    "| ~ | домашний каталог пользователя.|\n",
    "\n",
    "Рассмотрим примеры нескольких связанных между собой команд работы с файлами и каталогами. \\\n",
    "В текущем каталоге создаем пустой текстовый файл my.txt:"
   ]
  },
  {
   "cell_type": "code",
   "execution_count": null,
   "id": "4c6f9f4f-4224-4f31-9f23-5664ceffb309",
   "metadata": {},
   "outputs": [],
   "source": [
    "%%bash\n",
    "touch ./my.txt"
   ]
  },
  {
   "cell_type": "markdown",
   "id": "f778995c-a8bb-41e3-ac0d-e0d1ef8b329c",
   "metadata": {},
   "source": [
    "В текущем каталоге создаем каталог dir1."
   ]
  },
  {
   "cell_type": "code",
   "execution_count": null,
   "id": "c0fd8542-8a50-47de-92fc-37cfad4c4d15",
   "metadata": {},
   "outputs": [],
   "source": [
    "%%bash\n",
    "mkdir dir1"
   ]
  },
  {
   "cell_type": "markdown",
   "id": "d3570f29-186f-49c5-9a80-8dcdaaf41977",
   "metadata": {},
   "source": [
    "С помощью команды *echo* добавляем текст в файл my.txt:"
   ]
  },
  {
   "cell_type": "code",
   "execution_count": 8,
   "id": "6b8a3e87-5c9e-40f4-9427-7eb165067ac9",
   "metadata": {},
   "outputs": [],
   "source": [
    "%%bash\n",
    "echo \"Linux — это целое семейство операционных систем Unix с открытым исходным кодом, основанных на ядре Linux.\" > my.txt"
   ]
  },
  {
   "cell_type": "markdown",
   "id": "96d04fb0-0b1e-4653-be16-fba6da2b46b3",
   "metadata": {},
   "source": [
    ">echo — команда Unix, предназначенная для отображения строки текста. Команда echo выводит текст (выводит текст на стандартное устройство вывода)."
   ]
  },
  {
   "cell_type": "markdown",
   "id": "9fe67fea-4829-4e24-bedc-ee6d77863b41",
   "metadata": {},
   "source": [
    "Копируем файл my.txt из текущего каталога в созданный в нем каталог dir1 под именем my2.txt."
   ]
  },
  {
   "cell_type": "code",
   "execution_count": null,
   "id": "3db0e408-d89b-4ea2-a6bb-fc7a13476fb8",
   "metadata": {},
   "outputs": [],
   "source": [
    "%%bash\n",
    "cp ./my.txt ./dir1/my2.txt"
   ]
  },
  {
   "cell_type": "markdown",
   "id": "8e1b7d58-c610-4b8a-8637-9213fac62bc7",
   "metadata": {},
   "source": [
    "Копируем файл my.txt из текущего каталога в подкаталог dir1 под именем my3.txt."
   ]
  },
  {
   "cell_type": "code",
   "execution_count": null,
   "id": "a0520a2d-7d4a-4003-801d-ff92c82b5e74",
   "metadata": {},
   "outputs": [],
   "source": [
    "%%bash\n",
    "cp ./my.txt ./dir1/my3.txt"
   ]
  },
  {
   "cell_type": "markdown",
   "id": "9f18d7ce-4850-4623-9cf6-1b1538dd7415",
   "metadata": {},
   "source": [
    "Для того, чтобы перенести файл ./dir1/my3.txt в каталог /tmp под именем 3.txt, нужны права суперпользователя:\n",
    "```bash\n",
    "sudo mv ./dir1/my3.txt /tmp/3.txt\n",
    "```"
   ]
  },
  {
   "cell_type": "markdown",
   "id": "8310a2d1-82a4-419f-b6eb-239b029d6b15",
   "metadata": {},
   "source": [
    "## Перенаправление информации в файл\n",
    "|Оператор перенаправления|Назначение|\n",
    "| :---: | :--- |\n",
    "| > | Данные на выходе команды выводятся не в консоль, а в файл или на другое устройство (принтер). |\n",
    "| < | Считывание данных не с клавиатуры, а из файла. |\n",
    "| >> | Выходные данные дописываются в конец файла, при этом сохраняется уже существующая в файле информация. |\n",
    "| &#124; | Выходные данные одной команды считываются и записываются, как входные данные другой команды. |\n",
    "\n",
    "Пример ввода текста в файл с помощью терминала:\n",
    "```bash\n",
    "cat>file1\n",
    "Hello world! \n",
    "```\n",
    "*(для завершения ввода текста нажмите сочетание клавиш Ctrl+D)* \\\n",
    "В file1, который автоматически был создан в домашнем каталоге пользователя, записана фраза «Hello world!». \\\n",
    "Команда *echo* выводит текст на экран, чтобы перенаправить этот текст в файл primer1.txt, необходимо использовать \">\":"
   ]
  },
  {
   "cell_type": "code",
   "execution_count": 49,
   "id": "5c0316d9-1f23-448d-8883-d97b62141203",
   "metadata": {},
   "outputs": [
    {
     "name": "stdout",
     "output_type": "stream",
     "text": [
      "Text1\n"
     ]
    }
   ],
   "source": [
    "%%bash\n",
    "echo \"Text1\" #Команда выведет текст на экран\n",
    "echo \"Text1\" > primer1.txt #Команда перенаправит текст в файл"
   ]
  },
  {
   "cell_type": "markdown",
   "id": "1be7cb5e-37de-41dc-8a12-c95550f2088f",
   "metadata": {},
   "source": [
    "Проверим работу команды, для этого выведем текст файла на экран:"
   ]
  },
  {
   "cell_type": "code",
   "execution_count": 50,
   "id": "da7b63ef-a22b-4bd9-8c7a-b8fc72600289",
   "metadata": {},
   "outputs": [
    {
     "name": "stdout",
     "output_type": "stream",
     "text": [
      "Text1\n"
     ]
    }
   ],
   "source": [
    "cat primer1.txt"
   ]
  },
  {
   "cell_type": "markdown",
   "id": "cbeceb40-75a2-4c5c-a99a-012c88376169",
   "metadata": {},
   "source": [
    "**Важно!** При использовании \">\" информация, которая до этого была в файле, не сохранится. Чтобы дописать текст в конец файла, сохранив уже существующую информацию в файле, используем \">>\":"
   ]
  },
  {
   "cell_type": "code",
   "execution_count": 51,
   "id": "e051604b-f2cf-4908-a001-415997e8a524",
   "metadata": {},
   "outputs": [],
   "source": [
    "%%bash\n",
    "echo \"Text2\" >> primer1.txt"
   ]
  },
  {
   "cell_type": "markdown",
   "id": "77d9d003-ac75-4118-ac49-7e6cfffc47ea",
   "metadata": {},
   "source": [
    "Проверим работу команды, для этого выведем текст файла на экран:"
   ]
  },
  {
   "cell_type": "code",
   "execution_count": 52,
   "id": "cfd5fc1d-3906-4bf9-9f56-09b8334d7283",
   "metadata": {},
   "outputs": [
    {
     "name": "stdout",
     "output_type": "stream",
     "text": [
      "Text1\n",
      "Text2\n"
     ]
    }
   ],
   "source": [
    "cat primer1.txt"
   ]
  },
  {
   "cell_type": "markdown",
   "id": "591f3e0e-5f8f-453b-897e-8d0b0752eccf",
   "metadata": {},
   "source": [
    "Можно перенаправлять информацию из файла, для этого перенаправим информацию из команды вывода содержимого файла *cat* в другой файл:"
   ]
  },
  {
   "cell_type": "code",
   "execution_count": 53,
   "id": "8e656449-3a59-457a-9e6f-098752b53880",
   "metadata": {},
   "outputs": [],
   "source": [
    "%%bash\n",
    "cat primer1.txt > primer2.txt"
   ]
  },
  {
   "cell_type": "markdown",
   "id": "8555b134-439a-478f-b62f-3cfd146abfd0",
   "metadata": {},
   "source": [
    "Проверим работу команды, для этого выведем текст файла на экран:"
   ]
  },
  {
   "cell_type": "code",
   "execution_count": 54,
   "id": "a0a66ba3-10d9-4017-bfe9-117eae1d8463",
   "metadata": {},
   "outputs": [
    {
     "name": "stdout",
     "output_type": "stream",
     "text": [
      "Text1\n",
      "Text2\n"
     ]
    }
   ],
   "source": [
    "cat primer2.txt"
   ]
  },
  {
   "cell_type": "markdown",
   "id": "ea7ee320-bb98-423d-8404-adb65d543ace",
   "metadata": {},
   "source": [
    "При перенаправлении информации несколько файлов можно объединить в один. Например:"
   ]
  },
  {
   "cell_type": "code",
   "execution_count": 55,
   "id": "f693a989-c4fb-441c-ae56-b5fe71e0dd30",
   "metadata": {},
   "outputs": [
    {
     "name": "stdout",
     "output_type": "stream",
     "text": [
      "Text1\n",
      "Text2\n",
      "Text1\n",
      "Text2\n"
     ]
    }
   ],
   "source": [
    "%%bash\n",
    "cat primer1.txt > primer3.txt\n",
    "cat primer2.txt >> primer3.txt\n",
    "cat primer3.txt"
   ]
  },
  {
   "cell_type": "markdown",
   "id": "f107ea4a-72de-4a3a-890d-29b040961d75",
   "metadata": {},
   "source": [
    "Чтобы удалить созданные файлы с примерами, запустите ячейку ниже."
   ]
  },
  {
   "cell_type": "code",
   "execution_count": 56,
   "id": "5c70a304-ca4f-4114-ac63-289072c4dd5f",
   "metadata": {},
   "outputs": [],
   "source": [
    "%%bash\n",
    "rm primer1.txt primer2.txt primer3.txt"
   ]
  },
  {
   "cell_type": "markdown",
   "id": "a074621a-7e12-4da5-b859-9a7a980752b7",
   "metadata": {},
   "source": [
    "## Поиск файлов\n",
    "Для корректной работы примеров, запустите ячейку ниже."
   ]
  },
  {
   "cell_type": "code",
   "execution_count": 17,
   "id": "5386ec3e-ce90-4a95-9e6f-16280bb46f32",
   "metadata": {},
   "outputs": [],
   "source": [
    "%%bash\n",
    "touch ~primer.txt\n",
    "man cat > primer1.txt"
   ]
  },
  {
   "cell_type": "markdown",
   "id": "5270516f-e4eb-4018-9a5d-0c2a4e88e9bb",
   "metadata": {},
   "source": [
    "Для того, чтобы осуществлять поиск файлов, используется команта **find**. \n",
    "```bash \n",
    "find путь -опции \n",
    "```\n",
    "Путь – полный путь к каталогу, в котором следует произвести поиск.\n",
    "* -name (поиск файлов по имени, используя приведенный шаблон);\n",
    "* -user (поиск файлов, принадлежащих указанному пользователю);\n",
    "* -group (поиск файлов, принадлежащих указанной группе);\n",
    "* -perm (поиск файлов с указанным режимом доступа);\n",
    "* -type (поиск файлов определенного типа);\n",
    "* -size ±n (поиск файлов с размером n единиц (b - блоки 512 байт, с - байт, k - килобайт, Ь - мегабайт, G - гигабайт);\n",
    "* -mtime -n +n (поиск файлов, содержание которых изменялось менее чем «-» или более чем «+» дней назад).\n",
    "\n",
    "Искать файлы с именем config (-name config), начиная с каталога ~ (первый параметр команды find) и выводить имена файлов на экран (аргумент -print). Поиск рекурсивный:"
   ]
  },
  {
   "cell_type": "code",
   "execution_count": 1,
   "id": "adefb2e1-faaf-4d2f-8b1a-1700f0a73046",
   "metadata": {
    "scrolled": true
   },
   "outputs": [
    {
     "name": "stdout",
     "output_type": "stream",
     "text": [
      "/home/irina/.local/share/flatpak/repo/config\n",
      "/home/irina/.local/share/Trash/files/Jup_Lin.2/.git/config\n",
      "/home/irina/.local/share/Trash/files/Jup_Lin/.git/config\n",
      "/home/irina/.local/lib/python3.10/site-packages/traitlets/config\n",
      "/home/irina/.local/lib/python3.10/site-packages/jupyter_server/services/config\n",
      "/home/irina/.local/lib/python3.10/site-packages/jupyter_lsp/specs/config\n",
      "/home/irina/Загрузки/scilab-2025.0.0/include/scilab/config\n",
      "/home/irina/Рабочий стол/5-6 semestr/test git/.git/config\n",
      "/home/irina/rep/Jup_Lin/.git/config\n",
      "/home/irina/rep/.git/config\n",
      "/home/irina/.var/app/org.kde.kdenlive/config\n",
      "/home/irina/.var/app/ru.yandex.Browser/config\n",
      "/home/irina/.var/app/ru.yandex.Browser/config/yandex-browser/neuroedit/24.10.25.0/config\n",
      "/home/irina/.var/app/org.telegram.desktop/config\n",
      "/home/irina/.config/libreoffice/4/user/config\n",
      "/home/irina/.config/libreoffice/4/user/pack/config\n"
     ]
    }
   ],
   "source": [
    "%%bash\n",
    "find ~ -name config -print"
   ]
  },
  {
   "cell_type": "markdown",
   "id": "40f8d5f5-3e10-4fb6-85ab-6a474ae8f320",
   "metadata": {},
   "source": [
    "Найти в текущем каталоге обычные файлы (не каталоги), имя которых начинается с символа «~»."
   ]
  },
  {
   "cell_type": "code",
   "execution_count": 13,
   "id": "24c73ce7-e976-4bbc-96a6-4a62fba5f188",
   "metadata": {},
   "outputs": [
    {
     "name": "stdout",
     "output_type": "stream",
     "text": [
      "./~primer.txt\n"
     ]
    }
   ],
   "source": [
    "%%bash\n",
    "find . -type f -name \"~*\" -print"
   ]
  },
  {
   "cell_type": "markdown",
   "id": "39f64969-2dd2-408b-b268-f021c632a34a",
   "metadata": {},
   "source": [
    "Найти в текущем каталоге файлы, измененные позже, чем файл file.bak: \\\n",
    "```bash \n",
    "find . -newer file.bak -type f -print \n",
    "```\n",
    "Например:"
   ]
  },
  {
   "cell_type": "code",
   "execution_count": 19,
   "id": "87f53b19-2318-418a-9580-edc7158981fe",
   "metadata": {},
   "outputs": [
    {
     "name": "stdout",
     "output_type": "stream",
     "text": [
      "./primer1.txt\n"
     ]
    }
   ],
   "source": [
    "%%bash\n",
    "find . -newer ./~primer.txt -type f -print"
   ]
  },
  {
   "cell_type": "markdown",
   "id": "0c58f843-4cc4-4632-a6d6-5e4563307a23",
   "metadata": {},
   "source": [
    "Найти в текущем каталоге пустые файлы:"
   ]
  },
  {
   "cell_type": "code",
   "execution_count": 20,
   "id": "32568b7c-8c26-4a4a-9d16-f295404cf476",
   "metadata": {},
   "outputs": [
    {
     "name": "stdout",
     "output_type": "stream",
     "text": [
      "./file.txt\n",
      "./~primer.txt\n"
     ]
    }
   ],
   "source": [
    "%%bash\n",
    "find . -type f -empty"
   ]
  },
  {
   "cell_type": "markdown",
   "id": "57686dda-4623-46ff-8fa3-e75be337d242",
   "metadata": {},
   "source": [
    "Запустите ячейку ниже, чтобы удалить файлы, созданные для работы примеров."
   ]
  },
  {
   "cell_type": "code",
   "execution_count": 22,
   "id": "b51df78f-e50b-41a1-92da-3a3bef06244f",
   "metadata": {},
   "outputs": [],
   "source": [
    "%%bash\n",
    "rm ./~primer.txt\n",
    "rm ./primer1.txt"
   ]
  },
  {
   "cell_type": "markdown",
   "id": "7379abdf-5625-4a96-98d2-fe55f83cccc1",
   "metadata": {},
   "source": [
    "## Права доступа в ОС Linux"
   ]
  },
  {
   "cell_type": "markdown",
   "id": "1c580841-4302-43a9-a6ca-55950ac6bc6a",
   "metadata": {},
   "source": [
    "В Windows можно определить права доступа на директорию, и они автоматически распространяются на все файлы и поддиректории. В ОС Linux права не наследуются, они у каждого файла свои. Если посмотреть на вывод программы ls –l, в первом столбце показаны права доступа файла. Здесь первый символ - это тип файла, остальные девять - права. "
   ]
  },
  {
   "cell_type": "code",
   "execution_count": 24,
   "id": "e064f091-bbbb-49f7-8206-817f126cdd58",
   "metadata": {},
   "outputs": [
    {
     "name": "stdout",
     "output_type": "stream",
     "text": [
      "итого 1024\n",
      "-rw-rw-r-- 1 irina users      0 мар 18 18:45 file.txt\n",
      "drwxrwxr-x 3 irina irina   4096 мар 24 21:10 LR_SII\n",
      "drwxrwxr-x 2 irina irina   4096 дек 27 22:40 Sborka\n",
      "drwxrwxr-x 3 irina irina   4096 окт 23 23:35 test git\n",
      "-rw-rw-r-- 1 irina irina   6468 мар 25 10:52 Uchebnik.ipynb\n",
      "-rw-rw-r-- 1 irina irina     69 фев 25 18:44 Источники\n",
      "-rw-rw-r-- 1 irina irina 412084 мар 18 18:25 Курсач.odt\n",
      "-rw-r--r-- 1 irina irina 608320 окт 17 23:15 Лекция git и github.odt\n"
     ]
    }
   ],
   "source": [
    "%%bash\n",
    "ls -l"
   ]
  },
  {
   "cell_type": "markdown",
   "id": "cd5a59a1-2ae3-4c27-abf7-a8e77bf469dc",
   "metadata": {},
   "source": [
    "Типы файлов:\n",
    "* b – специальный блочный файл;\n",
    "* d – каталог;\n",
    "* c – специальный символьный файл;\n",
    "* f – обычный файл;\n",
    "* l – символьная ссылка;\n",
    "* p – именованный канал;\n",
    "* s – сокет.\n",
    "\n",
    "Права доступа делятся на три группы:\n",
    "\n",
    "| r w x | r w x | r w x |\n",
    "| :-----: | :------: | :-----: |\n",
    "| user  | group | other |\n",
    "\n",
    "* user – права хозяина файла;\n",
    "* group – права группы которой принадлежит файл;\n",
    "* other – права всех остальных пользователей системы.\n",
    "\n",
    "Права доступа к файлам и каталоге имеют различное значение. \n",
    "| Права | Для файлов: | Для каталогов: |\n",
    "| :---: | :--- | :--- |\n",
    "| r | право на чтение данных из файла; | право на чтение (просмотр) содержимого каталога (команда терминала ls); |\n",
    "| w | право на изменение содержимого файла (запись); | право на изменение содержимого каталога – создание и удаление объектов в этом каталоге; |\n",
    "| x | право на исполнение файла. | x – право на «вход» в каталог (команда терминала cd). |\n",
    "\n",
    "Право w не дает права на удаление файла, только на изменение содержимого. Если у файла установлено право x, его можно запустить на выполнение. \n",
    "\n",
    "Для упрощения записи у каждого типа доступа есть числовое представление, для этого используется двоичная система счисления. \n",
    "\n",
    "1 – есть право, 0 – нет права. \n",
    "\n",
    "Таким образом запись прав rwx r-x r-x в бинарном виде будет выглядеть следующим образом: 111 101 101. Но двоичное представление не очень удобно, поэтому используют восьмеричное. 111 в двоичной системе – это 7 в восьмеричной, а 101 – это 5, таким образом 111 101 101 - это 755. Итак, получаем:\n",
    "\n",
    "| 0 | 1 | 2 | 3 | 4 | 5 | 6 | 7 |\n",
    "| :---: | :---: | :---: | :---: | :---: | :---: | :---: | :---: |\n",
    "| --- | --x | -w- | -wx | r-- | r-x | rw- | rwx |\n",
    "| 000 | 001 | 010 | 011 | 100 | 101 | 110 | 111 |"
   ]
  }
 ],
 "metadata": {
  "kernelspec": {
   "display_name": "Python 3 (ipykernel)",
   "language": "python",
   "name": "python3"
  },
  "language_info": {
   "codemirror_mode": {
    "name": "ipython",
    "version": 3
   },
   "file_extension": ".py",
   "mimetype": "text/x-python",
   "name": "python",
   "nbconvert_exporter": "python",
   "pygments_lexer": "ipython3",
   "version": "3.10.12"
  }
 },
 "nbformat": 4,
 "nbformat_minor": 5
}
