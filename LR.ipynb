{
 "cells": [
  {
   "cell_type": "markdown",
   "id": "580c90d9-1b1d-413b-bc9f-279bdbeaf2e5",
   "metadata": {},
   "source": [
    "### Инструкция\n",
    "\n",
    "Перед началом работы выполните следующие действия:\n",
    "1. Убедитесь, что в одном каталоге с текущим файлом располагаются следующие файлы: **task2, task4, task7**. Сделать это можно, запустив **ячейку №1** нажатием **Ctrl + Enter (Shift + Enter)**.\n",
    "2. В **ячейке №2** ниже запишите **в кавычках пароль** администратора. Пример:\n",
    "``` bash\n",
    "%%bash\n",
    "echo \"123\" > password.txt\n",
    "./Script\n",
    "```\n",
    "3. Проверьте, что ваше подключение к интернету стабильно и надежно, и запустите **ячейку №2**. В каталоге, который является на данный момент текущим, появится система каталогов и файлов, которые будут вам необходимы для дальнейшей работы.\n",
    "\n",
    "Лабораторные работы **№2-6** выполняются в пустых ячейках, которые находятся после заданий каждой лабораторной работы. Для работы кода, необходимо перед ним на отдельной строчке ввести **%%bash**:\n",
    "``` bash\n",
    "%%bash\n",
    "#Ваш код\n",
    "```\n",
    "Лабораторные работы №2 (1 задание), 7 и 8 выполняются непосредственно в терминале.\n",
    "Если вы столкнулись с затруднениями при выполнении заданий лабораторной работы, рекомендуем обратиться к **справочной информации** с помощью команды **man** или к **теоретическим материалам**, доступным по следующему адресу: https://disk.yandex.ru/d/i2tBsEsoLyhFPw."
   ]
  },
  {
   "cell_type": "markdown",
   "id": "4d2e39d4-3c44-4704-8551-45abc7b0f555",
   "metadata": {},
   "source": [
    "**Ячейка №1**"
   ]
  },
  {
   "cell_type": "code",
   "execution_count": null,
   "id": "92024ec1-1a5e-4762-9c81-27943ee07546",
   "metadata": {},
   "outputs": [],
   "source": [
    "%%bash\n",
    "echo \"Текущий каталог\"\n",
    "pwd\n",
    "echo \"Проверьте наличие файлов task2, task4, task7:\"\n",
    "ls"
   ]
  },
  {
   "cell_type": "markdown",
   "id": "ff93e0e5-4a03-4625-9c2e-1da33a7e49dd",
   "metadata": {},
   "source": [
    "**Ячейка №2**"
   ]
  },
  {
   "cell_type": "code",
   "execution_count": 3,
   "id": "1ee0d3dd-d4ad-4307-9651-71cbff5c1f4b",
   "metadata": {},
   "outputs": [
    {
     "name": "stdout",
     "output_type": "stream",
     "text": [
      "Ошибка. Каталог LR уже существует, удалите или перенесите его, чтобы система файлов и каталогов была создана.\n"
     ]
    }
   ],
   "source": [
    "%%bash\n",
    "echo \"Ваш пароль\" > password.txt # Пароль должен быть в кавычках !\n",
    "chmod a+x ./Script\n",
    "./Script\n",
    "rm ./password.txt"
   ]
  },
  {
   "cell_type": "markdown",
   "id": "8404dcce-e214-4c3d-b876-d7e95d9593f1",
   "metadata": {},
   "source": [
    "### Лабораторная работа №1 Установка Linux\n",
    "\n",
    "Установите ОС семейства Linux на свой ноутбук (стационарный компьютер)."
   ]
  },
  {
   "cell_type": "markdown",
   "id": "3f4a0994-4827-4fca-a164-750858e9673c",
   "metadata": {},
   "source": [
    "### Лабораторная работа №2 Получение справочной информации\n",
    "**Задание 1**\n",
    "\n",
    "Перейдите в терминал и установите пакеты полной русификации man (пакеты русификации находятся здесь https://disk.yandex.ru/d/Qvyg24nRKdYrOA ).\n",
    "\n",
    "**Задание 2**\n",
    "\n",
    "Получите справочную информацию о командах (см. файл command1.txt в каталоге LR2)."
   ]
  },
  {
   "cell_type": "code",
   "execution_count": null,
   "id": "7f5c30bd-2b93-48d5-aee1-f9497ff27ab4",
   "metadata": {},
   "outputs": [],
   "source": [
    "%%bash\n"
   ]
  },
  {
   "cell_type": "markdown",
   "id": "0e1be3cd-5cfb-4c1f-b657-4fd3e070d211",
   "metadata": {},
   "source": [
    "**Задание 3**\n",
    "Перенаправьте полученную информацию в файл lab2.txt (создайте в каталоге LR2)."
   ]
  },
  {
   "cell_type": "code",
   "execution_count": null,
   "id": "a3b2a04f-22bd-4aa2-b135-27efb5563f52",
   "metadata": {},
   "outputs": [],
   "source": [
    "%%bash\n"
   ]
  },
  {
   "cell_type": "markdown",
   "id": "939d5fcc-1e09-47bd-a88b-16a4a8d8af44",
   "metadata": {},
   "source": [
    "### Лабораторная работа №3 Работа с файлами и каталогами\n",
    "\n",
    "Задания данной лабораторной работы выполняются в каталоге LR3, в нём же хранятся все необходимые файлы для работы (command2.txt, c1.txt, c2.txt).\n",
    "\n",
    "В каталоге LR3 создайте дерево каталогов как показано на рисунке (файл LR/LR3/task.txt)."
   ]
  },
  {
   "cell_type": "code",
   "execution_count": null,
   "id": "b0f1cba7-85b7-4b20-8559-fe7149526f73",
   "metadata": {},
   "outputs": [],
   "source": [
    "%%bash\n"
   ]
  },
  {
   "cell_type": "markdown",
   "id": "ff5dd13c-3c9f-485b-8636-5644e4bad3db",
   "metadata": {},
   "source": [
    "В каталоге А1 создайте подкаталоги В4 и В5 и удалите каталог В1."
   ]
  },
  {
   "cell_type": "code",
   "execution_count": null,
   "id": "8066da14-1abc-4d83-aaae-6d2a00746f1c",
   "metadata": {},
   "outputs": [],
   "source": [
    "%%bash\n"
   ]
  },
  {
   "cell_type": "markdown",
   "id": "8da45dc6-a514-435e-9f71-8a024377f0e0",
   "metadata": {},
   "source": [
    "Скопируйте ранее созданный файл lab2.txt в каталог A3."
   ]
  },
  {
   "cell_type": "code",
   "execution_count": null,
   "id": "feed3c8f-d3e9-4a52-9b5c-a732f4c5fe0d",
   "metadata": {},
   "outputs": [],
   "source": [
    "%%bash\n"
   ]
  },
  {
   "cell_type": "markdown",
   "id": "71e98f5a-7500-45f3-abe8-48a4c10edae1",
   "metadata": {},
   "source": [
    "Выведите на экран содержимое файла c2.txt. Создайте файл c3.txt. Скопируйте содержимое файла c2.txt в файл c3.txt, выведите содержимое последнего на экран."
   ]
  },
  {
   "cell_type": "code",
   "execution_count": null,
   "id": "759cc0cc-6be2-47b8-bd79-88159d8eab29",
   "metadata": {},
   "outputs": [],
   "source": [
    "%%bash\n"
   ]
  },
  {
   "cell_type": "markdown",
   "id": "d56cb1d8-428d-4cdd-8674-a7f8b9c4cb19",
   "metadata": {},
   "source": [
    "Ознакомьтесь с командой help. С её помощью получите справочную информацию по командам (см. файл command2.txt)."
   ]
  },
  {
   "cell_type": "code",
   "execution_count": null,
   "id": "86711705-eb7f-4cbd-bc3d-53fc4b8d6909",
   "metadata": {},
   "outputs": [],
   "source": [
    "%%bash\n"
   ]
  },
  {
   "cell_type": "markdown",
   "id": "3c56aa4c-203e-4674-a39a-b13d9f5db618",
   "metadata": {},
   "source": [
    "Перенаправьте информацию о первой команде в файл c1.txt, добавив к уже имеющимся данным. Вторую команду запишите в файл c2.txt, не сохраняя ранее хранящуюся в нём информацию."
   ]
  },
  {
   "cell_type": "code",
   "execution_count": null,
   "id": "ef4fd960-a7a7-41e3-af6c-c16a278f78fb",
   "metadata": {},
   "outputs": [],
   "source": [
    "%%bash\n"
   ]
  },
  {
   "cell_type": "markdown",
   "id": "951a67a6-f36a-454a-a49d-0dff9e1a4cc6",
   "metadata": {},
   "source": [
    "Скопируйте файл c1.txt в каталог A3, объедините файлы c1.txt и lab2.txt в файл c4.txt в каталоге A3."
   ]
  },
  {
   "cell_type": "code",
   "execution_count": null,
   "id": "09feac76-e08a-4e28-9eda-7734e493b590",
   "metadata": {},
   "outputs": [],
   "source": [
    "%%bash\n"
   ]
  },
  {
   "cell_type": "markdown",
   "id": "5a6114bc-6627-4535-93ae-f5143eb0ee7d",
   "metadata": {},
   "source": [
    "С помощью графического текстового редактора, указанного преподавателем, создайте файлы:\n",
    "* В каталоге Personal создайте файл name.txt, содержащий информацию о фамилии, имени и отчестве студента.\n",
    "* Здесь же создайте файл Date.txt, содержащий информацию о дате рождения студента.\n",
    "* В этом же каталоге создайте файл school.txt, содержащий информацию о школе, которую закончил студент.\n",
    "* В каталоге University создайте файл university.txt, содержащий информацию о названии ВУЗа и специальности, на которой студент обучается.\n",
    "* В каталоге Hobby создайте файл hobby.txt с информацией об увлечениях студента."
   ]
  },
  {
   "cell_type": "code",
   "execution_count": null,
   "id": "f08c52bd-95f4-4b7f-b674-3ca6e5087bbd",
   "metadata": {},
   "outputs": [],
   "source": [
    "%%bash\n"
   ]
  },
  {
   "cell_type": "markdown",
   "id": "52ff6b91-6b40-4540-a0ea-0b75ebdd3f57",
   "metadata": {},
   "source": [
    "Скопируйте файл hobby.txt в каталог А2."
   ]
  },
  {
   "cell_type": "code",
   "execution_count": null,
   "id": "6e18365f-d269-4ca3-bd49-b3acc1e566da",
   "metadata": {},
   "outputs": [],
   "source": [
    "%%bash\n"
   ]
  },
  {
   "cell_type": "markdown",
   "id": "528b3067-0763-45af-b9ca-00aeca768f5f",
   "metadata": {},
   "source": [
    "Объедините файлы hooby.txt, name.txt, school.txt в файле all.txt каталога Info."
   ]
  },
  {
   "cell_type": "code",
   "execution_count": null,
   "id": "faaa3281-0c39-44ff-a568-6f111e3c5375",
   "metadata": {},
   "outputs": [],
   "source": [
    "%%bash\n"
   ]
  },
  {
   "cell_type": "markdown",
   "id": "46af103c-e9d6-4dba-94e3-310d533146e8",
   "metadata": {},
   "source": [
    "Удалите файлы hooby.txt, name.txt, school.txt."
   ]
  },
  {
   "cell_type": "code",
   "execution_count": null,
   "id": "8daf3134-191b-41b1-b9ed-6d13a3b171be",
   "metadata": {},
   "outputs": [],
   "source": [
    "%%bash\n"
   ]
  },
  {
   "cell_type": "markdown",
   "id": "400dd735-511f-421d-8e6d-80a9378d3d3c",
   "metadata": {},
   "source": [
    "Выведите содержимое файла all.txt на экран."
   ]
  },
  {
   "cell_type": "code",
   "execution_count": null,
   "id": "a1828158-1738-406f-b1dd-a17427f7b386",
   "metadata": {},
   "outputs": [],
   "source": [
    "%%bash\n"
   ]
  },
  {
   "cell_type": "markdown",
   "id": "77d24214-aacd-4fbb-b3b0-f7cd1ce6183a",
   "metadata": {},
   "source": [
    "Скопируйте файл all.txt в директорию А1."
   ]
  },
  {
   "cell_type": "code",
   "execution_count": null,
   "id": "1367c4ba-62db-4960-9956-77426db5f6f3",
   "metadata": {},
   "outputs": [],
   "source": [
    "%%bash\n"
   ]
  },
  {
   "cell_type": "markdown",
   "id": "2372b21b-2243-4f50-acc8-c1e69fcdc0f8",
   "metadata": {},
   "source": [
    "### Лабораторная работа №4 Права доступа\n",
    "\n",
    "Перейдите в каталог LR4 и выполните:\n",
    "1. Создайте каталог test.\n",
    "2. Для test установите права доступа «только чтение» для текущего пользователя."
   ]
  },
  {
   "cell_type": "code",
   "execution_count": null,
   "id": "19bcc9c8-2374-45ff-b18f-e8cbaffb6370",
   "metadata": {},
   "outputs": [],
   "source": []
  },
  {
   "cell_type": "markdown",
   "id": "ef24995a-453c-41d2-b640-4651fc867b77",
   "metadata": {},
   "source": [
    "В каталоге LR4 создайте файл file, определите его права доступа и запретите любые действия с файлом. \n",
    "\n",
    "Попробуйте записать строку «тест» в file. Затем попробуйте прочитать файл."
   ]
  },
  {
   "cell_type": "code",
   "execution_count": null,
   "id": "59c6fd78-da01-47e8-af00-5e91118f537d",
   "metadata": {},
   "outputs": [],
   "source": []
  },
  {
   "cell_type": "markdown",
   "id": "233f2517-d4f9-4a6c-819c-1daa73170f62",
   "metadata": {},
   "source": [
    "Измените права доступа для file так, чтобы только текущий пользователь мог осуществлять в него запись. Запишите строку «test» в файл. Попробуйте прочитать содержимое."
   ]
  },
  {
   "cell_type": "code",
   "execution_count": null,
   "id": "2c2418ec-64c7-4c49-9e0c-d0282c02482f",
   "metadata": {},
   "outputs": [],
   "source": [
    "%%bash\n"
   ]
  },
  {
   "cell_type": "markdown",
   "id": "6edf0bcf-674f-4083-84da-ba53576e5db9",
   "metadata": {},
   "source": [
    "Разрешите группе текущего пользователя читать содержимое файла. Попробуйте прочитать содержимое."
   ]
  },
  {
   "cell_type": "code",
   "execution_count": null,
   "id": "746087aa-0d00-4dbb-990f-e5678e551e2a",
   "metadata": {},
   "outputs": [],
   "source": [
    "%%bash\n"
   ]
  },
  {
   "cell_type": "markdown",
   "id": "a74f52fc-fb6e-497d-b53a-96abdd6cb3ee",
   "metadata": {},
   "source": [
    "Разрешите текущему пользователю читать содержимое файла."
   ]
  },
  {
   "cell_type": "code",
   "execution_count": null,
   "id": "bce42e72-4c01-446e-af5f-5f299d1ea91d",
   "metadata": {},
   "outputs": [],
   "source": [
    "%%bash\n"
   ]
  },
  {
   "cell_type": "markdown",
   "id": "5190b09d-25e9-4d20-b650-9f10ae4131f5",
   "metadata": {},
   "source": [
    "Попробуйте прочитать содержимое (должна появиться ранее добавленная туда строка «test»)."
   ]
  },
  {
   "cell_type": "code",
   "execution_count": null,
   "id": "39067811-54de-4599-a31e-a7a5d228f6f7",
   "metadata": {},
   "outputs": [],
   "source": [
    "%%bash\n"
   ]
  },
  {
   "cell_type": "markdown",
   "id": "cc6ce416-7f14-4060-bfe0-ea59b08df15f",
   "metadata": {},
   "source": [
    "Создайте каталог dir. Создайте в этом каталоге файл new_file, запишите в него текст «file 2». Просмотрите содержимое каталога."
   ]
  },
  {
   "cell_type": "code",
   "execution_count": null,
   "id": "8a74469a-756f-485d-af70-0f6efe981e7a",
   "metadata": {},
   "outputs": [],
   "source": [
    "%%bash\n"
   ]
  },
  {
   "cell_type": "markdown",
   "id": "5d9533d1-da8b-4615-a2e0-68e700366789",
   "metadata": {},
   "source": [
    "Измените права доступа на каталог dir так, чтобы пользователи не имели права на исполнение (x). Попробуйте просмотреть содержимое файла new_file в каталоге dir. Попробуйте удалить этот файл."
   ]
  },
  {
   "cell_type": "code",
   "execution_count": null,
   "id": "c5277c9a-9175-41fc-8097-7c1f1e689e68",
   "metadata": {},
   "outputs": [],
   "source": [
    "%%bash\n"
   ]
  },
  {
   "cell_type": "markdown",
   "id": "2fc57022-241b-4033-80ce-5e425b0f575f",
   "metadata": {},
   "source": [
    "Создайте в LR4 каталог Primer, который будет содержать текстовые файлы primer1.txt и primer2.txt."
   ]
  },
  {
   "cell_type": "code",
   "execution_count": null,
   "id": "906ca4d8-ddf3-4283-90d0-0af1a2e3bec1",
   "metadata": {},
   "outputs": [],
   "source": [
    "%%bash\n"
   ]
  },
  {
   "cell_type": "markdown",
   "id": "99b6b134-bdaa-4359-b2ed-7404087300d2",
   "metadata": {},
   "source": [
    "Выполните далее задание своего варианта (см. каталог LR4, файл task.txt, выведите его текст на экран)."
   ]
  },
  {
   "cell_type": "code",
   "execution_count": null,
   "id": "7db19e72-41a7-4224-a97f-18e01266f6e6",
   "metadata": {},
   "outputs": [],
   "source": [
    "%%bash\n"
   ]
  },
  {
   "cell_type": "markdown",
   "id": "53f346bd-81f0-486d-8016-e80c3b7552fe",
   "metadata": {},
   "source": [
    "### Лабораторная работа №5 Поиск файлов\n",
    "\n",
    "Найдите файл (файлы):\n",
    "+ с именем на Ваш выбор;"
   ]
  },
  {
   "cell_type": "code",
   "execution_count": null,
   "id": "7d332874-c25f-4445-ba9b-ff087e6cd4aa",
   "metadata": {},
   "outputs": [],
   "source": [
    "%%bash\n"
   ]
  },
  {
   "cell_type": "markdown",
   "id": "39a766b0-af1c-4ef5-b252-37d84d36dcfb",
   "metadata": {},
   "source": [
    "+ размер которых меньше 300 байт;"
   ]
  },
  {
   "cell_type": "code",
   "execution_count": null,
   "id": "366fd064-a8bd-4d3c-adcd-522a54cf0496",
   "metadata": {},
   "outputs": [],
   "source": [
    "%%bash\n"
   ]
  },
  {
   "cell_type": "markdown",
   "id": "f0847d05-ce69-44b0-8f93-ed6b6622a512",
   "metadata": {},
   "source": [
    "+ модифицированные больше четырех дней назад;"
   ]
  },
  {
   "cell_type": "code",
   "execution_count": null,
   "id": "24aa8123-0842-49c9-a1fb-52d1d85eea93",
   "metadata": {},
   "outputs": [],
   "source": [
    "%%bash\n"
   ]
  },
  {
   "cell_type": "markdown",
   "id": "ca8f2c3c-8a4f-449f-889f-48ba0fe25501",
   "metadata": {},
   "source": [
    "+ пустые;"
   ]
  },
  {
   "cell_type": "code",
   "execution_count": null,
   "id": "1bd6f0db-4cdf-40d3-8951-3255402130cc",
   "metadata": {},
   "outputs": [],
   "source": [
    "%%bash\n"
   ]
  },
  {
   "cell_type": "markdown",
   "id": "87daa54b-e8ac-4eac-bb65-8d2eb52136e7",
   "metadata": {},
   "source": [
    "+ определенного типа (f – обычный файл)."
   ]
  },
  {
   "cell_type": "code",
   "execution_count": null,
   "id": "226b495d-82e9-4257-8e2d-3896f6fb0236",
   "metadata": {},
   "outputs": [],
   "source": [
    "%%bash\n"
   ]
  },
  {
   "cell_type": "markdown",
   "id": "f87f3c0b-6d34-4716-9f23-a17ff16eac20",
   "metadata": {},
   "source": [
    "### Лабораторная работа №6 Жёсткие и символьные ссылки\n",
    "Изучить назначение и ключи команды ln. После чего выполните:\n",
    "1. Создайте файл info.txt с описанием команд dpkg, apt, apt-get, ln в каталоге LR6;"
   ]
  },
  {
   "cell_type": "code",
   "execution_count": null,
   "id": "560852fd-94d5-4321-be0c-f81815c27ab7",
   "metadata": {},
   "outputs": [],
   "source": [
    "%%bash\n"
   ]
  },
  {
   "cell_type": "markdown",
   "id": "52d1dcfb-1508-410d-926e-5272695740b6",
   "metadata": {},
   "source": [
    "2. Создайте жесткую ссылку на него;"
   ]
  },
  {
   "cell_type": "code",
   "execution_count": null,
   "id": "99e281dc-d395-4dd9-9e38-9e1f4aa82623",
   "metadata": {},
   "outputs": [],
   "source": [
    "%%bash\n"
   ]
  },
  {
   "cell_type": "markdown",
   "id": "70596f24-0749-434c-8b3d-ecd33ca943c1",
   "metadata": {},
   "source": [
    "3. Просмотрите содержимое файла, используя ссылку;"
   ]
  },
  {
   "cell_type": "code",
   "execution_count": null,
   "id": "03da5a41-95f0-415a-85be-09cdcb814a85",
   "metadata": {},
   "outputs": [],
   "source": [
    "%%bash\n"
   ]
  },
  {
   "cell_type": "markdown",
   "id": "ff525578-be86-4cf4-b0f1-6fb976892f6a",
   "metadata": {},
   "source": [
    "4. Создайте символьную ссылку на исходный файл;"
   ]
  },
  {
   "cell_type": "code",
   "execution_count": null,
   "id": "4f218152-fdd9-4bd8-b9d6-4ad6b4d41432",
   "metadata": {},
   "outputs": [],
   "source": [
    "%%bash\n"
   ]
  },
  {
   "cell_type": "markdown",
   "id": "adfda9f6-1f71-434c-a849-fe449198dd88",
   "metadata": {},
   "source": [
    "5. С помощью команды ls просмотрите дескрипторы файла и ссылок."
   ]
  },
  {
   "cell_type": "code",
   "execution_count": null,
   "id": "478caad1-2942-4044-a724-69e1ef7a8d0f",
   "metadata": {},
   "outputs": [],
   "source": [
    "%%bash\n"
   ]
  },
  {
   "cell_type": "markdown",
   "id": "8b6afea8-069a-4da9-867a-ae1cda8dbec4",
   "metadata": {},
   "source": [
    "### Лабораторная работа №7 Управление пакетами\n",
    "Задание вашего варианта находится в файле task.txt каталога LR7. Создайте текстовый файл lab7 с ответом на вопрос из файла."
   ]
  },
  {
   "cell_type": "markdown",
   "id": "20bc579e-59b2-47b8-b519-e3edaf87f9c4",
   "metadata": {},
   "source": [
    "### Лабораторная работа №8 Управление пользователями\n",
    "1. Создайте пользователя labuser с настройками по умолчанию. Задайте labuser пароль. В каких группах состоит labuser? Войдите под новым пользователем в систему. Проверьте, создался ли домашний каталог пользователя, наполнен ли он файлами и кому он принадлежит? \n",
    "2. Удалите пользователя labuser.\n",
    "3. Создайте пользователя со своим именем и паролем (с правами sudo). Зайдите под новым пользователем в систему. Просмотрите записи для нового пользователя в файлах /etc/passwd и /etc/shadow. \n",
    "4. Определите владельца и группу файла /etc/passwd.\n",
    "5. Выведите на экран UID и GID.\n",
    "6. Смените пароль у пользователя с административными правами."
   ]
  }
 ],
 "metadata": {
  "kernelspec": {
   "display_name": "Python 3 (ipykernel)",
   "language": "python",
   "name": "python3"
  },
  "language_info": {
   "codemirror_mode": {
    "name": "ipython",
    "version": 3
   },
   "file_extension": ".py",
   "mimetype": "text/x-python",
   "name": "python",
   "nbconvert_exporter": "python",
   "pygments_lexer": "ipython3",
   "version": "3.10.12"
  }
 },
 "nbformat": 4,
 "nbformat_minor": 5
}
